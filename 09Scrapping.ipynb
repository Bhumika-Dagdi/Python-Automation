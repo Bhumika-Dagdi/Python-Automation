{
 "cells": [
  {
   "cell_type": "code",
   "execution_count": null,
   "id": "2ee3632f",
   "metadata": {},
   "outputs": [],
   "source": [
    "import requests\n",
    "from bs4 import BeautifulSoup\n",
    "import gradio as gr"
   ]
  },
  {
   "cell_type": "code",
   "execution_count": 2,
   "id": "c3bfbdc6",
   "metadata": {},
   "outputs": [],
   "source": [
    "def scrap_data(url):\n",
    "    try:\n",
    "        response =requests.get(url)  # Fetch the webpage content\n",
    "        soup=BeautifulSoup(response.content, 'html.parser')   # Parse the content\n",
    "\n",
    "        headlines=[]\n",
    "\n",
    "        for tag in soup.find_all(['h1','h2','h3']):\n",
    "            text=tag.get_text(strip=True)\n",
    "            if len(text)>30:\n",
    "                headlines.append(text)\n",
    "\n",
    "        return headlines[:10]  # Return top 10 headlines\n",
    "    except Exception as e:\n",
    "        return (f\"Error Scrapping {url}: {str(e)}\")"
   ]
  },
  {
   "cell_type": "code",
   "execution_count": 3,
   "id": "ccf652da",
   "metadata": {},
   "outputs": [],
   "source": [
    "def get_news():\n",
    "    urls={\n",
    "        \"BBC\": \"https://www.bbc.com/news\",\n",
    "        \"NDTV\": \"https://www.ndtv.com/latest\",\n",
    "        \"Indian Express\": \"https://www.indianexpress.com/\"\n",
    "    }\n",
    "\n",
    "    results={}\n",
    "\n",
    "    for name, url in urls.items():\n",
    "        headlines=scrap_data(url)\n",
    "        results[name] = headlines\n",
    "\n",
    "    return results"
   ]
  },
  {
   "cell_type": "code",
   "execution_count": 5,
   "id": "824f982c",
   "metadata": {},
   "outputs": [
    {
     "name": "stdout",
     "output_type": "stream",
     "text": [
      "* Running on local URL:  http://127.0.0.1:7860\n",
      "* To create a public link, set `share=True` in `launch()`.\n"
     ]
    },
    {
     "data": {
      "text/html": [
       "<div><iframe src=\"http://127.0.0.1:7860/\" width=\"100%\" height=\"500\" allow=\"autoplay; camera; microphone; clipboard-read; clipboard-write;\" frameborder=\"0\" allowfullscreen></iframe></div>"
      ],
      "text/plain": [
       "<IPython.core.display.HTML object>"
      ]
     },
     "metadata": {},
     "output_type": "display_data"
    },
    {
     "data": {
      "text/plain": []
     },
     "execution_count": 5,
     "metadata": {},
     "output_type": "execute_result"
    }
   ],
   "source": [
    "def gradio_interface():\n",
    "    news=get_news()\n",
    "    output=\"\"\n",
    "    for source, headlines in news.items():\n",
    "        output += f\"### {source} News\\n\"\n",
    "        for headline in headlines:\n",
    "            output +=f\"- {headline}\\n\"\n",
    "        output+=\"\\n\"\n",
    "    return output\n",
    "\n",
    "interface=gr.Interface(fn=gradio_interface, inputs=[], outputs=\"markdown\",title=\"News Headlines Scraper\")\n",
    "interface.launch()"
   ]
  },
  {
   "cell_type": "code",
   "execution_count": null,
   "id": "7e6c0aee",
   "metadata": {},
   "outputs": [],
   "source": []
  }
 ],
 "metadata": {
  "kernelspec": {
   "display_name": "py310",
   "language": "python",
   "name": "python3"
  },
  "language_info": {
   "codemirror_mode": {
    "name": "ipython",
    "version": 3
   },
   "file_extension": ".py",
   "mimetype": "text/x-python",
   "name": "python",
   "nbconvert_exporter": "python",
   "pygments_lexer": "ipython3",
   "version": "3.10.14"
  }
 },
 "nbformat": 4,
 "nbformat_minor": 5
}
